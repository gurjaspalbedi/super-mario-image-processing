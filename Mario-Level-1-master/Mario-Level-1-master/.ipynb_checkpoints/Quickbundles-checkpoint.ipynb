{
 "cells": [
  {
   "cell_type": "code",
   "execution_count": 1,
   "metadata": {},
   "outputs": [
    {
     "name": "stderr",
     "output_type": "stream",
     "text": [
      "C:\\Users\\gurjaspal\\Anaconda3\\lib\\site-packages\\h5py\\__init__.py:36: FutureWarning: Conversion of the second argument of issubdtype from `float` to `np.floating` is deprecated. In future, it will be treated as `np.float64 == np.dtype(float).type`.\n",
      "  from ._conv import register_converters as _register_converters\n"
     ]
    }
   ],
   "source": [
    "import numpy as np\n",
    "from skimage import io\n",
    "import matplotlib.pyplot as plt\n",
    "from dipy.segment.clustering import QuickBundles\n",
    "from dipy.segment.metric import IdentityFeature\n",
    "from dipy.segment.metric import EuclideanMetric\n",
    "from dipy.tracking.streamline import Streamlines"
   ]
  },
  {
   "cell_type": "code",
   "execution_count": 2,
   "metadata": {},
   "outputs": [],
   "source": [
    "s  = Streamlines()\n",
    "for i in range(1,5000):\n",
    "    im = io.imread('partitions/partition'+ str(i) + '.jpg')\n",
    "    #partition_list.append(im)\n",
    "    s.append(np.ascontiguousarray(im.reshape(2500,3)))"
   ]
  },
  {
   "cell_type": "code",
   "execution_count": 3,
   "metadata": {},
   "outputs": [
    {
     "data": {
      "text/plain": [
       "array([[ 87,  84,  69],\n",
       "       [ 73,  86,  94],\n",
       "       [ 42,  83, 115],\n",
       "       ...,\n",
       "       [  0,   0,   0],\n",
       "       [  0,   0,   0],\n",
       "       [  0,   0,   0]], dtype=uint8)"
      ]
     },
     "execution_count": 3,
     "metadata": {},
     "output_type": "execute_result"
    }
   ],
   "source": [
    "im = io.imread('partitions/partition'+ str(1) + '.jpg')\n",
    "im.reshape(2500,3)"
   ]
  },
  {
   "cell_type": "code",
   "execution_count": 4,
   "metadata": {},
   "outputs": [
    {
     "ename": "NameError",
     "evalue": "name 'vector_feature' is not defined",
     "output_type": "error",
     "traceback": [
      "\u001b[1;31m---------------------------------------------------------------------------\u001b[0m",
      "\u001b[1;31mNameError\u001b[0m                                 Traceback (most recent call last)",
      "\u001b[1;32m<ipython-input-4-efe3c38f9b4d>\u001b[0m in \u001b[0;36m<module>\u001b[1;34m()\u001b[0m\n\u001b[0;32m      1\u001b[0m \u001b[1;31m# vector_feature = IdentityFeature()\u001b[0m\u001b[1;33m\u001b[0m\u001b[1;33m\u001b[0m\u001b[0m\n\u001b[1;32m----> 2\u001b[1;33m \u001b[0mmetric\u001b[0m \u001b[1;33m=\u001b[0m \u001b[0mEuclideanMetric\u001b[0m\u001b[1;33m(\u001b[0m\u001b[0mfeature\u001b[0m\u001b[1;33m=\u001b[0m\u001b[0mvector_feature\u001b[0m\u001b[1;33m)\u001b[0m\u001b[1;33m\u001b[0m\u001b[0m\n\u001b[0m\u001b[0;32m      3\u001b[0m \u001b[0mqb\u001b[0m \u001b[1;33m=\u001b[0m \u001b[0mQuickBundles\u001b[0m\u001b[1;33m(\u001b[0m\u001b[0mthreshold\u001b[0m\u001b[1;33m=\u001b[0m\u001b[1;36m348300\u001b[0m\u001b[1;33m,\u001b[0m\u001b[0mmetric\u001b[0m\u001b[1;33m=\u001b[0m\u001b[0mmetric\u001b[0m\u001b[1;33m)\u001b[0m\u001b[1;33m\u001b[0m\u001b[0m\n\u001b[0;32m      4\u001b[0m \u001b[0mclusters\u001b[0m \u001b[1;33m=\u001b[0m \u001b[0mqb\u001b[0m\u001b[1;33m.\u001b[0m\u001b[0mcluster\u001b[0m\u001b[1;33m(\u001b[0m\u001b[0ms\u001b[0m\u001b[1;33m)\u001b[0m\u001b[1;33m\u001b[0m\u001b[0m\n\u001b[0;32m      5\u001b[0m \u001b[1;33m\u001b[0m\u001b[0m\n",
      "\u001b[1;31mNameError\u001b[0m: name 'vector_feature' is not defined"
     ]
    }
   ],
   "source": [
    "vector_feature = IdentityFeature()\n",
    "metric = EuclideanMetric(feature=vector_feature)\n",
    "qb = QuickBundles(threshold=348300,metric=metric)\n",
    "clusters = qb.cluster(s)\n",
    "\n",
    "print(len(clusters))"
   ]
  },
  {
   "cell_type": "code",
   "execution_count": null,
   "metadata": {},
   "outputs": [],
   "source": [
    "image1 = 2063\n",
    "image2 = 2064\n",
    "print(s[image1].reshape(50,50,3).shape)\n",
    "plt.figure()\n",
    "plt.imshow(s[image1].reshape(50,50,3))\n",
    "plt.figure()\n",
    "plt.imshow(s[image2].reshape(50,50,3))\n",
    "metric.dist(np.float32(s[image1]),np.float32(s[image2]))"
   ]
  },
  {
   "cell_type": "code",
   "execution_count": null,
   "metadata": {
    "scrolled": false
   },
   "outputs": [],
   "source": [
    "row = 0\n",
    "fig, ax = plt.subplots(len(clusters),20,figsize=(15,15))\n",
    "show_images_count = 20\n",
    "for cluster in clusters:\n",
    "#     print(\"next cluster\")\n",
    "    \n",
    "    if len(cluster) < show_images_count:\n",
    "        for index in range(len(cluster)):\n",
    "            image = cluster[index].reshape(50,50,3)\n",
    "#             plt.subplots(row, 10, index+1)\n",
    "            ax[row,index].axis('off')\n",
    "            ax[row,index].xaxis.set_ticklabels([])\n",
    "            ax[row,index].yaxis.set_ticklabels([])\n",
    "            ax[row,index].imshow(image)\n",
    "    else:\n",
    "        for index in range(show_images_count):\n",
    "#             print(cluster[index].shape)\n",
    "            image = cluster[index].reshape(50,50,3)\n",
    "            ax[row,index].xaxis.set_ticklabels([])\n",
    "            ax[row,index].yaxis.set_ticklabels([])\n",
    "#             plt.subplots(row,10,index+1)\n",
    "            ax[row,index].axis('off')\n",
    "            ax[row,index].imshow(image)\n",
    "    row += 1\n",
    "        "
   ]
  },
  {
   "cell_type": "code",
   "execution_count": null,
   "metadata": {},
   "outputs": [],
   "source": [
    "\n",
    "\n",
    "#im = io.imread('partitions/partition'+ str(1) + '.jpg', as_grey=True)\n",
    "\n",
    "\n",
    "#my_data = [200*np.random.rand(1, 3),\n",
    "#        50*np.random.rand(1, 3),\n",
    "#        10*np.random.rand(1, 3)] \n",
    "#my_data = np.array(my_data)\n",
    "\n",
    "#class DataSequence:\n",
    "#    def __init__(self, data):\n",
    "#\n",
    "#        self.data = data\n",
    "#\n",
    "#    def __getitem__(self, i):\n",
    "#        return self.data[i][None, :]\n",
    "#        #return self.data[i]\n",
    "#\n",
    "#    def __len__(self):\n",
    "#        return self.data.shape[0]\n",
    "\n",
    "#class DMetric(Metric):\n",
    "#    \"\"\" Computes the cosine distance between two streamlines. \"\"\"\n",
    "#    def __init__(self):\n",
    "#        # For simplicity, features will be the vector between endpoints of a streamline.\n",
    "#        super(DMetric, self).__init__(feature=IdentityFeature())\n",
    "#\n",
    "#    def are_compatible(self, shape1, shape2):\n",
    "#        \"\"\" Checks if two features are vectors of same dimension.\n",
    "#\n",
    "#        Basically this method exists so we don't have to do this check\n",
    "#        inside the `dist` method (speedup).\n",
    "#        \"\"\"\n",
    "#        return shape1 == shape2 and shape1[0] == 1\n",
    "#\n",
    "#    def dist(self, v1, v2):\n",
    "#        \"\"\" Computes a the cosine distance between two vectors. \"\"\"\n",
    "#        return np.sum((v1 [0-v2)**2)\n",
    "#continuous\n",
    "#dataseq = DataSequence(s)\n",
    "\n",
    "#vector_feature = IdentityFeature()\n",
    "#metric = EuclideanMetric(feature=vector_feature)\n",
    "\n",
    "\n",
    "\n",
    "\n",
    "\n",
    "    \n",
    "    \n",
    "\n",
    "#print(len(partition_list))\n",
    "#qb = QuickBundles(threshold = 3.)\n",
    "#clusters = qb.cluster(partition_list)\n",
    "#print(len(clusters))"
   ]
  },
  {
   "cell_type": "code",
   "execution_count": null,
   "metadata": {},
   "outputs": [],
   "source": []
  },
  {
   "cell_type": "code",
   "execution_count": null,
   "metadata": {},
   "outputs": [],
   "source": []
  },
  {
   "cell_type": "code",
   "execution_count": null,
   "metadata": {},
   "outputs": [],
   "source": []
  },
  {
   "cell_type": "code",
   "execution_count": null,
   "metadata": {},
   "outputs": [],
   "source": []
  }
 ],
 "metadata": {
  "kernelspec": {
   "display_name": "Python 3",
   "language": "python",
   "name": "python3"
  },
  "language_info": {
   "codemirror_mode": {
    "name": "ipython",
    "version": 3
   },
   "file_extension": ".py",
   "mimetype": "text/x-python",
   "name": "python",
   "nbconvert_exporter": "python",
   "pygments_lexer": "ipython3",
   "version": "3.6.5"
  }
 },
 "nbformat": 4,
 "nbformat_minor": 2
}
